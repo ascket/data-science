{
  "nbformat": 4,
  "nbformat_minor": 0,
  "metadata": {
    "colab": {
      "name": "first.ipynb",
      "provenance": [],
      "collapsed_sections": [],
      "mount_file_id": "1Nnw7G47cjqa1FaUsSLo7SOr2NGg4yYcD",
      "authorship_tag": "ABX9TyOTNwWYBaRTd4OYbB0vHcXY",
      "include_colab_link": true
    },
    "kernelspec": {
      "name": "python3",
      "display_name": "Python 3"
    }
  },
  "cells": [
    {
      "cell_type": "markdown",
      "metadata": {
        "id": "view-in-github",
        "colab_type": "text"
      },
      "source": [
        "<a href=\"https://colab.research.google.com/github/ascket/data-science/blob/master/first.ipynb\" target=\"_parent\"><img src=\"https://colab.research.google.com/assets/colab-badge.svg\" alt=\"Open In Colab\"/></a>"
      ]
    },
    {
      "cell_type": "code",
      "metadata": {
        "id": "k23tPBZvA16d",
        "colab_type": "code",
        "colab": {}
      },
      "source": [
        "# Matplotlib config\n",
        "%matplotlib inline\n",
        "\n",
        "# SVG-Anzeige anschalten\n",
        "%config InlineBackend.figure_formats = ['svg']\n",
        "\n",
        "# Größe definieren\n",
        "%config InlineBackend.rc = {'figure.figsize': (5.0, 3.0)}"
      ],
      "execution_count": null,
      "outputs": []
    },
    {
      "cell_type": "code",
      "metadata": {
        "id": "biJyUA1uVqTO",
        "colab_type": "code",
        "colab": {
          "base_uri": "https://localhost:8080/",
          "height": 71
        },
        "outputId": "1493e818-dd74-4b1d-c7f6-cbf165f03bd9"
      },
      "source": [
        "import pandas as pd\n",
        "import numpy as np\n",
        "import seaborn as sns\n",
        "import matplotlib.pyplot as plt\n",
        "sns.set()\n",
        "path_salaries = r\"/content/drive/My Drive/Data Science/Salaries.csv.bz2\"\n",
        "path_diamonds = r\"/content/drive/My Drive/Data Science/diamonds.csv.bz2\"\n",
        "path_booking_stepik = r\"https://stepik.org/media/attachments/lesson/360344/bookings.csv\"\n",
        "path_autos = r\"/content/drive/My Drive/Data Science/autos.csv.bz2\""
      ],
      "execution_count": null,
      "outputs": [
        {
          "output_type": "stream",
          "text": [
            "/usr/local/lib/python3.6/dist-packages/statsmodels/tools/_testing.py:19: FutureWarning: pandas.util.testing is deprecated. Use the functions in the public API at pandas.testing instead.\n",
            "  import pandas.util.testing as tm\n"
          ],
          "name": "stderr"
        }
      ]
    },
    {
      "cell_type": "code",
      "metadata": {
        "id": "7Ba1C1cN-az0",
        "colab_type": "code",
        "colab": {}
      },
      "source": [
        "df = pd.read_csv(path_autos, encoding=\"iso-8859-1\")"
      ],
      "execution_count": null,
      "outputs": []
    },
    {
      "cell_type": "code",
      "metadata": {
        "id": "kbflsZQA-a5g",
        "colab_type": "code",
        "colab": {}
      },
      "source": [
        "df = df[(df.offerType == \"Angebot\") & (df.notRepairedDamage == \"nein\")\n",
        "        & (df.vehicleType == \"kleinwagen\")]"
      ],
      "execution_count": null,
      "outputs": []
    },
    {
      "cell_type": "code",
      "metadata": {
        "id": "khBMzNr_-a-n",
        "colab_type": "code",
        "colab": {}
      },
      "source": [
        "from sklearn.linear_model import LinearRegression\n",
        "from sklearn.preprocessing import OneHotEncoder\n",
        "from sklearn.compose import ColumnTransformer\n",
        "from sklearn.model_selection import train_test_split\n",
        "\n",
        "X = df[[\"kilometer\", \"yearOfRegistration\", \"brand\", \"gearbox\"]]\n",
        "y = df[\"price\"]"
      ],
      "execution_count": null,
      "outputs": []
    },
    {
      "cell_type": "code",
      "metadata": {
        "id": "Bsa9a1Nd-bBS",
        "colab_type": "code",
        "colab": {}
      },
      "source": [
        "cf = ColumnTransformer([\n",
        "                        (\"brand\", OneHotEncoder(drop = \"first\"), [\"brand\"]),\n",
        "                        (\"gearbox\", OneHotEncoder(drop = \"first\"), [\"gearbox\"])\n",
        "], remainder = \"passthrough\")"
      ],
      "execution_count": null,
      "outputs": []
    },
    {
      "cell_type": "code",
      "metadata": {
        "id": "JBOO1rC6A0C9",
        "colab_type": "code",
        "colab": {}
      },
      "source": [
        "cf.fit(X)\n",
        "X_transformed = cf.transform(X)"
      ],
      "execution_count": null,
      "outputs": []
    },
    {
      "cell_type": "code",
      "metadata": {
        "id": "XcpHTELoA0II",
        "colab_type": "code",
        "colab": {}
      },
      "source": [
        "X_train, X_test, y_train, y_test = train_test_split(X_transformed, y, random_state = 42)"
      ],
      "execution_count": null,
      "outputs": []
    },
    {
      "cell_type": "code",
      "metadata": {
        "id": "GJFAbRO1A0Fw",
        "colab_type": "code",
        "colab": {
          "base_uri": "https://localhost:8080/",
          "height": 34
        },
        "outputId": "b912dc15-e79d-4674-957c-bb667bf8f491"
      },
      "source": [
        "model_linear = LinearRegression()\n",
        "model_linear.fit(X_train, y_train)\n",
        "model_linear.score(X_test, y_test)"
      ],
      "execution_count": null,
      "outputs": [
        {
          "output_type": "execute_result",
          "data": {
            "text/plain": [
              "0.6446294915258182"
            ]
          },
          "metadata": {
            "tags": []
          },
          "execution_count": 72
        }
      ]
    },
    {
      "cell_type": "code",
      "metadata": {
        "id": "oS7XwSk0-a8O",
        "colab_type": "code",
        "colab": {}
      },
      "source": [
        "from sklearn.linear_model import Ridge\n",
        "\n",
        "model_ridge = Ridge()"
      ],
      "execution_count": null,
      "outputs": []
    },
    {
      "cell_type": "code",
      "metadata": {
        "id": "rzCx8y4k-a3O",
        "colab_type": "code",
        "colab": {
          "base_uri": "https://localhost:8080/",
          "height": 34
        },
        "outputId": "9afa7640-e745-42b9-f6dd-ddd9303feac7"
      },
      "source": [
        "model_ridge.fit(X_train, y_train)\n",
        "model_ridge.score(X_test, y_test)"
      ],
      "execution_count": null,
      "outputs": [
        {
          "output_type": "execute_result",
          "data": {
            "text/plain": [
              "0.3876005424217116"
            ]
          },
          "metadata": {
            "tags": []
          },
          "execution_count": 74
        }
      ]
    },
    {
      "cell_type": "code",
      "metadata": {
        "id": "t8blknhZDPDB",
        "colab_type": "code",
        "colab": {
          "base_uri": "https://localhost:8080/",
          "height": 34
        },
        "outputId": "fa537cac-b378-444b-9a65-3339e6373d87"
      },
      "source": [
        "model_ridge.intercept_"
      ],
      "execution_count": null,
      "outputs": [
        {
          "output_type": "execute_result",
          "data": {
            "text/plain": [
              "9212.210996958802"
            ]
          },
          "metadata": {
            "tags": []
          },
          "execution_count": 76
        }
      ]
    },
    {
      "cell_type": "code",
      "metadata": {
        "id": "cs9ERHNkDPKk",
        "colab_type": "code",
        "colab": {
          "base_uri": "https://localhost:8080/",
          "height": 34
        },
        "outputId": "07da3f9b-403c-4c48-d41e-44d8bf9f72bc"
      },
      "source": [
        "X_predict = pd.DataFrame([\n",
        "                          [100000, 2000, \"audi\", \"automatik\"]\n",
        "], columns = [\"kilometer\", \"yearOfRegistration\", \"brand\", \"gearbox\"])\n",
        "\n",
        "model_linear.predict(cf.transform(X_predict))"
      ],
      "execution_count": null,
      "outputs": [
        {
          "output_type": "execute_result",
          "data": {
            "text/plain": [
              "array([8154.12998433])"
            ]
          },
          "metadata": {
            "tags": []
          },
          "execution_count": 81
        }
      ]
    },
    {
      "cell_type": "code",
      "metadata": {
        "id": "iXE4lVsBDPI1",
        "colab_type": "code",
        "colab": {
          "base_uri": "https://localhost:8080/",
          "height": 34
        },
        "outputId": "745a3dee-cade-4a7d-9e0e-2da1514c0884"
      },
      "source": [
        "model_ridge.predict(cf.transform(X_predict))"
      ],
      "execution_count": null,
      "outputs": [
        {
          "output_type": "execute_result",
          "data": {
            "text/plain": [
              "array([4125.8795315])"
            ]
          },
          "metadata": {
            "tags": []
          },
          "execution_count": 82
        }
      ]
    },
    {
      "cell_type": "code",
      "metadata": {
        "id": "fABsEknVDPGO",
        "colab_type": "code",
        "colab": {}
      },
      "source": [
        "def tested(fn):\n",
        "    "
      ],
      "execution_count": null,
      "outputs": []
    }
  ]
}